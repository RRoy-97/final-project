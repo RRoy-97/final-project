{
 "cells": [
  {
   "cell_type": "markdown",
   "metadata": {},
   "source": [
    "## Correlation Matrix Data for Tableau"
   ]
  },
  {
   "cell_type": "code",
   "execution_count": 1,
   "metadata": {},
   "outputs": [],
   "source": [
    "# importing libraries for data exploration and preprocessing\n",
    "import pandas as pd\n"
   ]
  },
  {
   "cell_type": "markdown",
   "metadata": {},
   "source": [
    "### importing data"
   ]
  },
  {
   "cell_type": "code",
   "execution_count": 2,
   "metadata": {},
   "outputs": [
    {
     "name": "stderr",
     "output_type": "stream",
     "text": [
      "C:\\Users\\ThinkPad\\anaconda3\\envs\\PythonAdv\\lib\\site-packages\\IPython\\core\\interactiveshell.py:3072: DtypeWarning: Columns (19,55) have mixed types.Specify dtype option on import or set low_memory=False.\n",
      "  interactivity=interactivity, compiler=compiler, result=result)\n"
     ]
    }
   ],
   "source": [
    "data = pd.read_csv(r'C:\\Users\\ThinkPad\\Documents\\BootCamp\\Project Final\\Resource\\loan.csv')"
   ]
  },
  {
   "cell_type": "markdown",
   "metadata": {},
   "source": [
    "### calculating correlation"
   ]
  },
  {
   "cell_type": "code",
   "execution_count": 3,
   "metadata": {},
   "outputs": [
    {
     "data": {
      "text/html": [
       "<div>\n",
       "<style scoped>\n",
       "    .dataframe tbody tr th:only-of-type {\n",
       "        vertical-align: middle;\n",
       "    }\n",
       "\n",
       "    .dataframe tbody tr th {\n",
       "        vertical-align: top;\n",
       "    }\n",
       "\n",
       "    .dataframe thead th {\n",
       "        text-align: right;\n",
       "    }\n",
       "</style>\n",
       "<table border=\"1\" class=\"dataframe\">\n",
       "  <thead>\n",
       "    <tr style=\"text-align: right;\">\n",
       "      <th></th>\n",
       "      <th>id</th>\n",
       "      <th>member_id</th>\n",
       "      <th>loan_amnt</th>\n",
       "      <th>funded_amnt</th>\n",
       "      <th>funded_amnt_inv</th>\n",
       "      <th>int_rate</th>\n",
       "      <th>installment</th>\n",
       "      <th>annual_inc</th>\n",
       "      <th>dti</th>\n",
       "      <th>delinq_2yrs</th>\n",
       "      <th>...</th>\n",
       "      <th>il_util</th>\n",
       "      <th>open_rv_12m</th>\n",
       "      <th>open_rv_24m</th>\n",
       "      <th>max_bal_bc</th>\n",
       "      <th>all_util</th>\n",
       "      <th>total_rev_hi_lim</th>\n",
       "      <th>inq_fi</th>\n",
       "      <th>total_cu_tl</th>\n",
       "      <th>inq_last_12m</th>\n",
       "      <th>Code</th>\n",
       "    </tr>\n",
       "  </thead>\n",
       "  <tbody>\n",
       "    <tr>\n",
       "      <th>id</th>\n",
       "      <td>1.000000</td>\n",
       "      <td>0.999443</td>\n",
       "      <td>0.063803</td>\n",
       "      <td>0.066058</td>\n",
       "      <td>0.071502</td>\n",
       "      <td>-0.142963</td>\n",
       "      <td>0.025347</td>\n",
       "      <td>0.033990</td>\n",
       "      <td>0.067781</td>\n",
       "      <td>0.049648</td>\n",
       "      <td>...</td>\n",
       "      <td>0.009703</td>\n",
       "      <td>0.011797</td>\n",
       "      <td>0.004960</td>\n",
       "      <td>-0.000543</td>\n",
       "      <td>0.000428</td>\n",
       "      <td>0.048724</td>\n",
       "      <td>-0.013579</td>\n",
       "      <td>-0.000914</td>\n",
       "      <td>0.014084</td>\n",
       "      <td>0.012592</td>\n",
       "    </tr>\n",
       "    <tr>\n",
       "      <th>member_id</th>\n",
       "      <td>0.999443</td>\n",
       "      <td>1.000000</td>\n",
       "      <td>0.064461</td>\n",
       "      <td>0.066754</td>\n",
       "      <td>0.072308</td>\n",
       "      <td>-0.142205</td>\n",
       "      <td>0.026036</td>\n",
       "      <td>0.034146</td>\n",
       "      <td>0.067824</td>\n",
       "      <td>0.049904</td>\n",
       "      <td>...</td>\n",
       "      <td>0.009033</td>\n",
       "      <td>0.006729</td>\n",
       "      <td>0.003529</td>\n",
       "      <td>-0.003295</td>\n",
       "      <td>0.000492</td>\n",
       "      <td>0.048660</td>\n",
       "      <td>-0.013022</td>\n",
       "      <td>-0.005038</td>\n",
       "      <td>0.012763</td>\n",
       "      <td>0.012759</td>\n",
       "    </tr>\n",
       "    <tr>\n",
       "      <th>loan_amnt</th>\n",
       "      <td>0.063803</td>\n",
       "      <td>0.064461</td>\n",
       "      <td>1.000000</td>\n",
       "      <td>0.999263</td>\n",
       "      <td>0.997115</td>\n",
       "      <td>0.145023</td>\n",
       "      <td>0.944977</td>\n",
       "      <td>0.332698</td>\n",
       "      <td>0.020675</td>\n",
       "      <td>-0.000159</td>\n",
       "      <td>...</td>\n",
       "      <td>-0.107249</td>\n",
       "      <td>-0.051313</td>\n",
       "      <td>-0.028005</td>\n",
       "      <td>0.412165</td>\n",
       "      <td>0.019173</td>\n",
       "      <td>0.312439</td>\n",
       "      <td>0.009638</td>\n",
       "      <td>0.071500</td>\n",
       "      <td>0.007928</td>\n",
       "      <td>0.016761</td>\n",
       "    </tr>\n",
       "    <tr>\n",
       "      <th>funded_amnt</th>\n",
       "      <td>0.066058</td>\n",
       "      <td>0.066754</td>\n",
       "      <td>0.999263</td>\n",
       "      <td>1.000000</td>\n",
       "      <td>0.998025</td>\n",
       "      <td>0.145160</td>\n",
       "      <td>0.946005</td>\n",
       "      <td>0.332466</td>\n",
       "      <td>0.021075</td>\n",
       "      <td>0.000151</td>\n",
       "      <td>...</td>\n",
       "      <td>-0.107249</td>\n",
       "      <td>-0.051313</td>\n",
       "      <td>-0.028005</td>\n",
       "      <td>0.412165</td>\n",
       "      <td>0.019173</td>\n",
       "      <td>0.312439</td>\n",
       "      <td>0.009638</td>\n",
       "      <td>0.071500</td>\n",
       "      <td>0.007928</td>\n",
       "      <td>0.016895</td>\n",
       "    </tr>\n",
       "    <tr>\n",
       "      <th>funded_amnt_inv</th>\n",
       "      <td>0.071502</td>\n",
       "      <td>0.072308</td>\n",
       "      <td>0.997115</td>\n",
       "      <td>0.998025</td>\n",
       "      <td>1.000000</td>\n",
       "      <td>0.145205</td>\n",
       "      <td>0.943632</td>\n",
       "      <td>0.331420</td>\n",
       "      <td>0.022185</td>\n",
       "      <td>0.000648</td>\n",
       "      <td>...</td>\n",
       "      <td>-0.107337</td>\n",
       "      <td>-0.051439</td>\n",
       "      <td>-0.028118</td>\n",
       "      <td>0.412268</td>\n",
       "      <td>0.018969</td>\n",
       "      <td>0.312473</td>\n",
       "      <td>0.009548</td>\n",
       "      <td>0.071515</td>\n",
       "      <td>0.007820</td>\n",
       "      <td>0.017109</td>\n",
       "    </tr>\n",
       "  </tbody>\n",
       "</table>\n",
       "<p>5 rows × 52 columns</p>\n",
       "</div>"
      ],
      "text/plain": [
       "                       id  member_id  loan_amnt  funded_amnt  funded_amnt_inv  \\\n",
       "id               1.000000   0.999443   0.063803     0.066058         0.071502   \n",
       "member_id        0.999443   1.000000   0.064461     0.066754         0.072308   \n",
       "loan_amnt        0.063803   0.064461   1.000000     0.999263         0.997115   \n",
       "funded_amnt      0.066058   0.066754   0.999263     1.000000         0.998025   \n",
       "funded_amnt_inv  0.071502   0.072308   0.997115     0.998025         1.000000   \n",
       "\n",
       "                 int_rate  installment  annual_inc       dti  delinq_2yrs  \\\n",
       "id              -0.142963     0.025347    0.033990  0.067781     0.049648   \n",
       "member_id       -0.142205     0.026036    0.034146  0.067824     0.049904   \n",
       "loan_amnt        0.145023     0.944977    0.332698  0.020675    -0.000159   \n",
       "funded_amnt      0.145160     0.946005    0.332466  0.021075     0.000151   \n",
       "funded_amnt_inv  0.145205     0.943632    0.331420  0.022185     0.000648   \n",
       "\n",
       "                 ...   il_util  open_rv_12m  open_rv_24m  max_bal_bc  \\\n",
       "id               ...  0.009703     0.011797     0.004960   -0.000543   \n",
       "member_id        ...  0.009033     0.006729     0.003529   -0.003295   \n",
       "loan_amnt        ... -0.107249    -0.051313    -0.028005    0.412165   \n",
       "funded_amnt      ... -0.107249    -0.051313    -0.028005    0.412165   \n",
       "funded_amnt_inv  ... -0.107337    -0.051439    -0.028118    0.412268   \n",
       "\n",
       "                 all_util  total_rev_hi_lim    inq_fi  total_cu_tl  \\\n",
       "id               0.000428          0.048724 -0.013579    -0.000914   \n",
       "member_id        0.000492          0.048660 -0.013022    -0.005038   \n",
       "loan_amnt        0.019173          0.312439  0.009638     0.071500   \n",
       "funded_amnt      0.019173          0.312439  0.009638     0.071500   \n",
       "funded_amnt_inv  0.018969          0.312473  0.009548     0.071515   \n",
       "\n",
       "                 inq_last_12m      Code  \n",
       "id                   0.014084  0.012592  \n",
       "member_id            0.012763  0.012759  \n",
       "loan_amnt            0.007928  0.016761  \n",
       "funded_amnt          0.007928  0.016895  \n",
       "funded_amnt_inv      0.007820  0.017109  \n",
       "\n",
       "[5 rows x 52 columns]"
      ]
     },
     "execution_count": 3,
     "metadata": {},
     "output_type": "execute_result"
    }
   ],
   "source": [
    "corr_matrix = data.corr()\n",
    "corr_matrix.head()"
   ]
  },
  {
   "cell_type": "code",
   "execution_count": 4,
   "metadata": {},
   "outputs": [],
   "source": [
    "corr_tableau=corr_matrix.unstack().reset_index(name='corr')"
   ]
  },
  {
   "cell_type": "code",
   "execution_count": 5,
   "metadata": {},
   "outputs": [],
   "source": [
    "corr_tableau.rename(columns={'level_0': 'X', 'level_1': 'Y'}, inplace=True)"
   ]
  },
  {
   "cell_type": "code",
   "execution_count": 6,
   "metadata": {},
   "outputs": [
    {
     "data": {
      "text/html": [
       "<div>\n",
       "<style scoped>\n",
       "    .dataframe tbody tr th:only-of-type {\n",
       "        vertical-align: middle;\n",
       "    }\n",
       "\n",
       "    .dataframe tbody tr th {\n",
       "        vertical-align: top;\n",
       "    }\n",
       "\n",
       "    .dataframe thead th {\n",
       "        text-align: right;\n",
       "    }\n",
       "</style>\n",
       "<table border=\"1\" class=\"dataframe\">\n",
       "  <thead>\n",
       "    <tr style=\"text-align: right;\">\n",
       "      <th></th>\n",
       "      <th>X</th>\n",
       "      <th>Y</th>\n",
       "      <th>corr</th>\n",
       "    </tr>\n",
       "  </thead>\n",
       "  <tbody>\n",
       "    <tr>\n",
       "      <th>0</th>\n",
       "      <td>id</td>\n",
       "      <td>id</td>\n",
       "      <td>1.000000</td>\n",
       "    </tr>\n",
       "    <tr>\n",
       "      <th>1</th>\n",
       "      <td>id</td>\n",
       "      <td>member_id</td>\n",
       "      <td>0.999443</td>\n",
       "    </tr>\n",
       "    <tr>\n",
       "      <th>2</th>\n",
       "      <td>id</td>\n",
       "      <td>loan_amnt</td>\n",
       "      <td>0.063803</td>\n",
       "    </tr>\n",
       "    <tr>\n",
       "      <th>3</th>\n",
       "      <td>id</td>\n",
       "      <td>funded_amnt</td>\n",
       "      <td>0.066058</td>\n",
       "    </tr>\n",
       "    <tr>\n",
       "      <th>4</th>\n",
       "      <td>id</td>\n",
       "      <td>funded_amnt_inv</td>\n",
       "      <td>0.071502</td>\n",
       "    </tr>\n",
       "  </tbody>\n",
       "</table>\n",
       "</div>"
      ],
      "text/plain": [
       "    X                Y      corr\n",
       "0  id               id  1.000000\n",
       "1  id        member_id  0.999443\n",
       "2  id        loan_amnt  0.063803\n",
       "3  id      funded_amnt  0.066058\n",
       "4  id  funded_amnt_inv  0.071502"
      ]
     },
     "execution_count": 6,
     "metadata": {},
     "output_type": "execute_result"
    }
   ],
   "source": [
    "corr_tableau.head()"
   ]
  },
  {
   "cell_type": "markdown",
   "metadata": {},
   "source": [
    "### export to csv"
   ]
  },
  {
   "cell_type": "code",
   "execution_count": 7,
   "metadata": {},
   "outputs": [],
   "source": [
    "corr_tableau.to_csv('../Resource/corr_matrix.csv',index=False)"
   ]
  }
 ],
 "metadata": {
  "kernelspec": {
   "display_name": "Python 3",
   "language": "python",
   "name": "python3"
  },
  "language_info": {
   "codemirror_mode": {
    "name": "ipython",
    "version": 3
   },
   "file_extension": ".py",
   "mimetype": "text/x-python",
   "name": "python",
   "nbconvert_exporter": "python",
   "pygments_lexer": "ipython3",
   "version": "3.6.13"
  }
 },
 "nbformat": 4,
 "nbformat_minor": 2
}
